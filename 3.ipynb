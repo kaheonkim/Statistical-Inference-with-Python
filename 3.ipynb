{
 "cells": [
  {
   "cell_type": "code",
   "execution_count": 343,
   "metadata": {},
   "outputs": [],
   "source": [
    "import numpy as np\n",
    "import pandas as pd\n",
    "import matplotlib.pyplot as plt\n",
    "import seaborn as sns\n",
    "import math\n",
    "import scipy.stats as stats\n",
    "import pandas as pd"
   ]
  },
  {
   "cell_type": "markdown",
   "metadata": {},
   "source": [
    "# 1. Statatistical Test"
   ]
  },
  {
   "cell_type": "code",
   "execution_count": 344,
   "metadata": {},
   "outputs": [],
   "source": [
    "class Stats_Test():    \n",
    "        \n",
    "    def Test(self, array_x, alternative, array_y = None, val=None, var = None, normal = False, alpha = None):\n",
    "        \n",
    "        ## Part 1\n",
    "        #Normal 일 때\n",
    "        if bool(np.mean(array_y == None)) == True and val == None:\n",
    "            print(\"The test cannot be conducted due to empty value.\")\n",
    "        elif bool(np.mean(array_y == None)) == True and val != None:\n",
    "            if normal == True:\n",
    "                #Variance가 주어지지 않았을 때(Sample)\n",
    "                if var == None:\n",
    "                    Ssquare=np.var(array_x)*len(array_x)/(len(array_x)-1)\n",
    "                    S=np.sqrt(Ssquare)\n",
    "                    T=(np.mean(array_x)-val)/S * np.sqrt(len(array_x))\n",
    "                    self.value = T\n",
    "                    self.test = 'T'\n",
    "                    self.df = len(array_x) -1\n",
    "                #Variance가 주어졌을 때\n",
    "                else:\n",
    "                    Z=(np.mean(array_x)-val)/var * np.sqrt(len(array_x))\n",
    "                    self.value = Z\n",
    "                    self.test = 'Z'\n",
    "            #Normal이 아닐 때(Central Limit Theorem)\n",
    "            else:\n",
    "                #Variance가 주어지지 않았을 때(Sample)\n",
    "                if var == None:\n",
    "                    Ssquare=np.var(array_x)*len(array_x)/(len(array_x)-1)\n",
    "                    S=np.sqrt(Ssquare)\n",
    "                    T=(np.mean(array_x)-val)/S * np.sqrt(len(array_x))\n",
    "                    self.value = T\n",
    "                    self.test = 'Z'\n",
    "\n",
    "                #Variance가 주어졌을 때    \n",
    "                else:\n",
    "                    \n",
    "                    Z=(np.mean(array_x)-val)/var * np.sqrt(len(array_x))\n",
    "                    self.value = Z\n",
    "                    self.test = 'Z'\n",
    "                    \n",
    "                if len(array_x)<30:\n",
    "                    print(\"Warning: The sample size is too small.\")\n",
    "\n",
    "            if alternative == 'neq':\n",
    "                if self.test == 'Z':\n",
    "                    return 2*(1-stats.norm.cdf(abs(self.value)))\n",
    "                if self.test == 'T':\n",
    "                    return 2*(1-stats.t.cdf(abs(self.value), df = self.df))\n",
    "            elif alternative == '<':\n",
    "                if self.test == 'Z':\n",
    "                    return stats.norm.cdf(self.value)\n",
    "                if self.test == 'T':\n",
    "                    return stats.t.cdf(self.value, df = self.df)\n",
    "            elif alternative == '>':\n",
    "                if self.test == 'Z':\n",
    "                    return 1-stats.norm.cdf(self.value)\n",
    "                if self.test == 'T':\n",
    "                    return 1-stats.t.cdf(self.value, df = self.df)\n",
    "\n",
    "        \n",
    "        \n",
    "        else:\n",
    "\n",
    "            if val == None:\n",
    "                val = 0\n",
    "\n",
    "            if normal == True:\n",
    "                #Variance가 주어지지 않았을 때(Sample)\n",
    "                if var == None:\n",
    "                    Ssquare1 = np.var(array_x)*len(array_x)/(len(array_x)-1)\n",
    "                    S1 = np.sqrt(Ssquare1)\n",
    "                    Ssquare2 = np.var(array_y)*len(array_y)/(len(array_y)-1)\n",
    "                    S2 = np.sqrt(Ssquare2)\n",
    "                    df1 = (Ssquare1/len(array_x)+Ssquare2/len(array_y))**2\n",
    "                    df2 = (Ssquare1/len(array_x))**2/(len(array_x)-1)+ \\\n",
    "                    (Ssquare2/len(array_y))**2/(len(array_y)-1)\n",
    "                    denominator = np.sqrt(Ssquare1/len(array_x)+Ssquare2/len(array_y))\n",
    "                    T = (np.mean(array_x) - np.mean(array_y) - val)/denominator\n",
    "                    self.value = T\n",
    "                    self.test = 'T'\n",
    "                    self.df = df1/df2\n",
    "                    \n",
    "                #Variance가 주어졌을 때\n",
    "                else:\n",
    "                    denominator = np.sqrt(var[0]**2/len(array_x)+var[1]**2/len(array_y))\n",
    "                    self.test = 'Z'\n",
    "                    Z = (np.mean(array_x) - np.mean(array_y) - val)/denominator\n",
    "                    self.value = Z\n",
    "            else:\n",
    "                #Normal이 아닐 때(Central Limit Theorem)\n",
    "                if len(array_x)<30 or len(array_y)<30:\n",
    "                    print('Warning: The sample sizes are too small.')\n",
    "                #Variance가 주어지지 않았을 때(Sample)\n",
    "                if var == None:\n",
    "                    Ssquare1 = np.var(array_x)*len(array_x)/(len(array_x)-1)\n",
    "                    S1 = np.sqrt(Ssquare1)\n",
    "                    Ssquare2 = np.var(array_y)*len(array_y)/(len(array_y)-1)\n",
    "                    S2 = np.sqrt(Ssquare2)\n",
    "                    denominator = np.sqrt(S1**2/len(array_x)+S2**2/len(array_y))\n",
    "                    T = (np.mean(array_x) - np.mean(array_y) - val)/denominator\n",
    "                    self.value = T\n",
    "                    self.test = 'Z'\n",
    "\n",
    "                #Variance가 주어졌을 때\n",
    "                else:\n",
    "                    Z = (np.mean(array_x)-np.mean(array_y)-val )/np.sqrt(var[0]/len(array_x)+var[1]/len(array_y))\n",
    "                    self.value = Z\n",
    "                    self.test = 'Z'\n",
    "                \n",
    "            if alternative == 'neq':\n",
    "                if self.test == 'Z':\n",
    "                    return 2*(1-stats.norm.cdf(abs(self.value)))\n",
    "                if self.test == 'T':\n",
    "                    return 2*(1-stats.t.cdf(abs(self.value), df = self.df))\n",
    "            elif alternative == '<':\n",
    "                if self.test == 'Z':\n",
    "                    return stats.norm.cdf(self.value)\n",
    "                if self.test == 'T':\n",
    "                    return stats.t.cdf(self.value, df =  self.df)\n",
    "            elif alternative == '>':\n",
    "                if self.test == 'Z':\n",
    "                    return 1-stats.norm.cdf(self.value)\n",
    "                if self.test == 'T':\n",
    "                    return 1-stats.t.cdf(self.value, df = self.df)"
   ]
  },
  {
   "cell_type": "markdown",
   "metadata": {},
   "source": [
    "## Check it!"
   ]
  },
  {
   "cell_type": "code",
   "execution_count": 345,
   "metadata": {},
   "outputs": [],
   "source": [
    "A=Stats_Test()"
   ]
  },
  {
   "cell_type": "code",
   "execution_count": 346,
   "metadata": {},
   "outputs": [],
   "source": [
    "samp=np.array([7.65, 7.60, 7.65, 7.70, 7.55, 7.55, 7.40, 7.40, 7.50, 7.50])"
   ]
  },
  {
   "cell_type": "code",
   "execution_count": 347,
   "metadata": {},
   "outputs": [
    {
     "name": "stdout",
     "output_type": "stream",
     "text": [
      "The test cannot be conducted due to empty value.\n"
     ]
    }
   ],
   "source": [
    "A.Test(array_x=samp, normal=True, alternative=\"<\")"
   ]
  },
  {
   "cell_type": "code",
   "execution_count": 348,
   "metadata": {},
   "outputs": [
    {
     "data": {
      "text/plain": [
       "1.5079814004897984e-05"
      ]
     },
     "execution_count": 348,
     "metadata": {},
     "output_type": "execute_result"
    }
   ],
   "source": [
    "A.Test(array_x=samp, val=7.8, normal=True, alternative=\"<\")"
   ]
  },
  {
   "cell_type": "code",
   "execution_count": 349,
   "metadata": {},
   "outputs": [
    {
     "name": "stdout",
     "output_type": "stream",
     "text": [
      "Warning: The sample size is too small.\n"
     ]
    },
    {
     "data": {
      "text/plain": [
       "7.083697760973414e-15"
      ]
     },
     "execution_count": 349,
     "metadata": {},
     "output_type": "execute_result"
    }
   ],
   "source": [
    "A.Test(array_x=samp, val=7.8, normal=False, alternative=\"<\")"
   ]
  },
  {
   "cell_type": "code",
   "execution_count": 350,
   "metadata": {},
   "outputs": [],
   "source": [
    "samp2=np.array([7.35, 7.68, 8.65, 5.70, 7.50, 6.75, 4.20, 5.73, 3.80, 6.40])"
   ]
  },
  {
   "cell_type": "code",
   "execution_count": 351,
   "metadata": {},
   "outputs": [
    {
     "data": {
      "text/plain": [
       "0.01988673194901347"
      ]
     },
     "execution_count": 351,
     "metadata": {},
     "output_type": "execute_result"
    }
   ],
   "source": [
    "A.Test(array_x=samp, array_y=samp2 , normal=True, alternative=\">\", alpha=0.05)"
   ]
  },
  {
   "cell_type": "code",
   "execution_count": 352,
   "metadata": {},
   "outputs": [
    {
     "name": "stdout",
     "output_type": "stream",
     "text": [
      "Warning: The sample sizes are too small.\n"
     ]
    },
    {
     "data": {
      "text/plain": [
       "0.008233104348804754"
      ]
     },
     "execution_count": 352,
     "metadata": {},
     "output_type": "execute_result"
    }
   ],
   "source": [
    "A.Test(array_x=samp, array_y=samp2 , normal=False, alternative=\">\")"
   ]
  },
  {
   "cell_type": "code",
   "execution_count": 353,
   "metadata": {},
   "outputs": [
    {
     "name": "stdout",
     "output_type": "stream",
     "text": [
      "Warning: The sample sizes are too small.\n"
     ]
    },
    {
     "data": {
      "text/plain": [
       "0.005297199310786649"
      ]
     },
     "execution_count": 353,
     "metadata": {},
     "output_type": "execute_result"
    }
   ],
   "source": [
    "A.Test(array_x=samp, array_y=samp2 , var=[0.01,2.1], normal=False, alternative=\">\")"
   ]
  },
  {
   "cell_type": "code",
   "execution_count": 354,
   "metadata": {},
   "outputs": [
    {
     "name": "stdout",
     "output_type": "stream",
     "text": [
      "Warning: The sample sizes are too small.\n"
     ]
    },
    {
     "data": {
      "text/plain": [
       "0.07114734608030493"
      ]
     },
     "execution_count": 354,
     "metadata": {},
     "output_type": "execute_result"
    }
   ],
   "source": [
    "A.Test(array_x=samp, array_y=samp2 , val=0.5, var=[0.01,2.1],normal=False, alternative=\">\")"
   ]
  },
  {
   "cell_type": "markdown",
   "metadata": {},
   "source": [
    "# 2. Linear Regression"
   ]
  },
  {
   "cell_type": "markdown",
   "metadata": {},
   "source": []
  },
  {
   "cell_type": "code",
   "execution_count": 355,
   "metadata": {},
   "outputs": [],
   "source": [
    "# Background Functions\n",
    "\n",
    "def householder(u,k):\n",
    "    w=np.zeros(len(u))\n",
    "    w[(k+1):]=u[(k+1):]\n",
    "    s=np.sqrt(np.dot(u[k:],u[k:]))\n",
    "    w[k]=u[k]+np.sign(u[k])*s\n",
    "    length=np.sqrt(2*s*(s+np.abs(u[k])))\n",
    "    if length!=0:\n",
    "        w=w/length\n",
    "    H=np.eye(len(u))-2*np.outer(w,w)\n",
    "    return H\n",
    "\n",
    "def forward_substitution(L,v):\n",
    "    \n",
    "    n=len(L)\n",
    "    \n",
    "    x=np.zeros(n)\n",
    "    \n",
    "    for i in range(n):\n",
    "        tmp = v[i]-np.dot(L[i][:i],x[:i])\n",
    "        x[i] = tmp/L[i,i]\n",
    "        \n",
    "    return x\n",
    "\n",
    "def back_substitution(U,v):\n",
    "    \n",
    "    n=len(U)\n",
    "    \n",
    "    x = np.zeros(n)\n",
    "\n",
    "    for i in range(n-1, -1, -1):\n",
    "        tmp = v[i]-np.dot(U[i][(i+1):],x[(i+1):])\n",
    "        x[i] = tmp/U[i,i]\n",
    "    \n",
    "    return x\n",
    "\n",
    "def QRdecomp1(A):\n",
    "    n,m=A.shape\n",
    "    R=A.copy()\n",
    "    Q=np.eye(n)\n",
    "    for j in range(m):\n",
    "        H=householder(R[:,j],j)\n",
    "        Q=np.dot(Q,H)\n",
    "        R=np.dot(H,R)\n",
    "    return (R,Q)\n",
    "\n",
    "def QRdecomp2(A,z):\n",
    "    n,m=A.shape\n",
    "    R=A.copy()\n",
    "    z_=z.copy()\n",
    "    #Q=np.eye(n)\n",
    "    for j in range(m):\n",
    "        H=householder(R[:,j],j)\n",
    "        #Q=np.dot(Q,H)\n",
    "        R=np.dot(H,R)\n",
    "        z_=np.dot(H,z_)\n",
    "    return (R[:m],z_[:m])"
   ]
  },
  {
   "cell_type": "code",
   "execution_count": 356,
   "metadata": {
    "scrolled": true
   },
   "outputs": [
    {
     "data": {
      "text/html": [
       "<div>\n",
       "<style scoped>\n",
       "    .dataframe tbody tr th:only-of-type {\n",
       "        vertical-align: middle;\n",
       "    }\n",
       "\n",
       "    .dataframe tbody tr th {\n",
       "        vertical-align: top;\n",
       "    }\n",
       "\n",
       "    .dataframe thead th {\n",
       "        text-align: right;\n",
       "    }\n",
       "</style>\n",
       "<table border=\"1\" class=\"dataframe\">\n",
       "  <thead>\n",
       "    <tr style=\"text-align: right;\">\n",
       "      <th></th>\n",
       "      <th>fixed_acidity</th>\n",
       "      <th>volatile_acidity</th>\n",
       "      <th>citric_acid</th>\n",
       "      <th>residual_sugar</th>\n",
       "      <th>chlorides</th>\n",
       "      <th>free_sulfur_dioxide</th>\n",
       "      <th>total_sulfur_dioxide</th>\n",
       "      <th>density</th>\n",
       "      <th>pH</th>\n",
       "      <th>sulphates</th>\n",
       "      <th>alcohol</th>\n",
       "      <th>quality</th>\n",
       "    </tr>\n",
       "  </thead>\n",
       "  <tbody>\n",
       "    <tr>\n",
       "      <th>0</th>\n",
       "      <td>7.0</td>\n",
       "      <td>0.27</td>\n",
       "      <td>0.36</td>\n",
       "      <td>20.7</td>\n",
       "      <td>0.045</td>\n",
       "      <td>45.0</td>\n",
       "      <td>170.0</td>\n",
       "      <td>1.0010</td>\n",
       "      <td>3.00</td>\n",
       "      <td>0.45</td>\n",
       "      <td>8.8</td>\n",
       "      <td>6</td>\n",
       "    </tr>\n",
       "    <tr>\n",
       "      <th>1</th>\n",
       "      <td>6.3</td>\n",
       "      <td>0.30</td>\n",
       "      <td>0.34</td>\n",
       "      <td>1.6</td>\n",
       "      <td>0.049</td>\n",
       "      <td>14.0</td>\n",
       "      <td>132.0</td>\n",
       "      <td>0.9940</td>\n",
       "      <td>3.30</td>\n",
       "      <td>0.49</td>\n",
       "      <td>9.5</td>\n",
       "      <td>6</td>\n",
       "    </tr>\n",
       "    <tr>\n",
       "      <th>2</th>\n",
       "      <td>8.1</td>\n",
       "      <td>0.28</td>\n",
       "      <td>0.40</td>\n",
       "      <td>6.9</td>\n",
       "      <td>0.050</td>\n",
       "      <td>30.0</td>\n",
       "      <td>97.0</td>\n",
       "      <td>0.9951</td>\n",
       "      <td>3.26</td>\n",
       "      <td>0.44</td>\n",
       "      <td>10.1</td>\n",
       "      <td>6</td>\n",
       "    </tr>\n",
       "    <tr>\n",
       "      <th>3</th>\n",
       "      <td>7.2</td>\n",
       "      <td>0.23</td>\n",
       "      <td>0.32</td>\n",
       "      <td>8.5</td>\n",
       "      <td>0.058</td>\n",
       "      <td>47.0</td>\n",
       "      <td>186.0</td>\n",
       "      <td>0.9956</td>\n",
       "      <td>3.19</td>\n",
       "      <td>0.40</td>\n",
       "      <td>9.9</td>\n",
       "      <td>6</td>\n",
       "    </tr>\n",
       "    <tr>\n",
       "      <th>4</th>\n",
       "      <td>7.2</td>\n",
       "      <td>0.23</td>\n",
       "      <td>0.32</td>\n",
       "      <td>8.5</td>\n",
       "      <td>0.058</td>\n",
       "      <td>47.0</td>\n",
       "      <td>186.0</td>\n",
       "      <td>0.9956</td>\n",
       "      <td>3.19</td>\n",
       "      <td>0.40</td>\n",
       "      <td>9.9</td>\n",
       "      <td>6</td>\n",
       "    </tr>\n",
       "  </tbody>\n",
       "</table>\n",
       "</div>"
      ],
      "text/plain": [
       "   fixed_acidity  volatile_acidity  citric_acid  residual_sugar  chlorides  \\\n",
       "0            7.0              0.27         0.36            20.7      0.045   \n",
       "1            6.3              0.30         0.34             1.6      0.049   \n",
       "2            8.1              0.28         0.40             6.9      0.050   \n",
       "3            7.2              0.23         0.32             8.5      0.058   \n",
       "4            7.2              0.23         0.32             8.5      0.058   \n",
       "\n",
       "   free_sulfur_dioxide  total_sulfur_dioxide  density    pH  sulphates  \\\n",
       "0                 45.0                 170.0   1.0010  3.00       0.45   \n",
       "1                 14.0                 132.0   0.9940  3.30       0.49   \n",
       "2                 30.0                  97.0   0.9951  3.26       0.44   \n",
       "3                 47.0                 186.0   0.9956  3.19       0.40   \n",
       "4                 47.0                 186.0   0.9956  3.19       0.40   \n",
       "\n",
       "   alcohol  quality  \n",
       "0      8.8        6  \n",
       "1      9.5        6  \n",
       "2     10.1        6  \n",
       "3      9.9        6  \n",
       "4      9.9        6  "
      ]
     },
     "execution_count": 356,
     "metadata": {},
     "output_type": "execute_result"
    }
   ],
   "source": [
    "whitedata = pd.read_csv(\"white.csv\")   # dataframe\n",
    "whitedata.head()"
   ]
  },
  {
   "cell_type": "code",
   "execution_count": 357,
   "metadata": {
    "scrolled": true
   },
   "outputs": [],
   "source": [
    "whitedata = whitedata.dropna(axis=0)\n",
    "\n",
    "X = np.array(whitedata.drop([\"quality\"],1))\n",
    "X = np.hstack([np.ones(len(X)).reshape(len(X),1),X])\n",
    "y = np.array(whitedata[\"quality\"])\n",
    "\n"
   ]
  },
  {
   "cell_type": "markdown",
   "metadata": {},
   "source": [
    "$ X^TX = R^T R =R_1^TR_1$"
   ]
  },
  {
   "cell_type": "markdown",
   "metadata": {},
   "source": [
    "where $R_1$ is upper p+1 rows of $R$"
   ]
  },
  {
   "cell_type": "code",
   "execution_count": 358,
   "metadata": {
    "scrolled": true
   },
   "outputs": [],
   "source": [
    "R = QRdecomp1(X)[0]\n",
    "R1 = R[0:np.shape(X)[1],:]\n",
    "XTX = np.dot(np.transpose(R1),R1)"
   ]
  },
  {
   "cell_type": "markdown",
   "metadata": {},
   "source": [
    "$ (X^TX)^{-1}=(R_1^TR_1)^{-1} = (R_1)^{-1}(R_1^T)^{-1} = (R_1)^{-1}(R_1^{-1})^T$"
   ]
  },
  {
   "cell_type": "code",
   "execution_count": 359,
   "metadata": {
    "scrolled": true
   },
   "outputs": [],
   "source": [
    "#Finding R1\n",
    "R = QRdecomp1(X)[0]\n",
    "R1 = R[0:np.shape(X)[1],:]\n",
    "XTX = np.dot(np.transpose(R1),R1)\n",
    "R1I = []\n",
    "\n",
    "# Back substitution for finding inverse of R1\n",
    "R1I = []\n",
    "for i in range(np.shape(R1)[1]):\n",
    "    I = np.eye(np.shape(R1)[0])[:,i]\n",
    "    v = back_substitution(R1,I)\n",
    "    R1I.append(v)\n",
    "R1I = np.transpose(R1I)\n",
    "# inverse of XTX\n",
    "XTXI = np.dot(R1I,np.transpose(R1I))"
   ]
  },
  {
   "cell_type": "code",
   "execution_count": 360,
   "metadata": {},
   "outputs": [],
   "source": [
    "R_1,QY_1=QRdecomp2(X,y)\n",
    "beta=back_substitution(R_1,QY_1)"
   ]
  },
  {
   "cell_type": "markdown",
   "metadata": {},
   "source": [
    "## Solution"
   ]
  },
  {
   "cell_type": "markdown",
   "metadata": {},
   "source": [
    "(a) $H_0:\\beta_1 = \\beta_2 = \\cdots \\beta_p$ vs    $H_1: \\beta_i \\neq 0$ for some $i$"
   ]
  },
  {
   "cell_type": "markdown",
   "metadata": {},
   "source": [
    "$F = \\frac{MSR}{MSE} \\sim F(p,N-p-1)$"
   ]
  },
  {
   "cell_type": "markdown",
   "metadata": {},
   "source": [
    "I will execute the test with $\\alpha = 0.05$"
   ]
  },
  {
   "cell_type": "code",
   "execution_count": 362,
   "metadata": {},
   "outputs": [],
   "source": [
    "alpha = 0.05"
   ]
  },
  {
   "cell_type": "code",
   "execution_count": 363,
   "metadata": {
    "scrolled": true
   },
   "outputs": [],
   "source": [
    "yhat = np.dot(X,np.transpose(beta))\n",
    "SSE = np.dot(y - yhat,y - yhat)\n",
    "SSR = np.dot(yhat - np.mean(y), yhat - np.mean(y))\n",
    "\n",
    "shape = np.shape(X)\n",
    "#shape[0] = N, shape[1] = p+1\n",
    "#df: N-p-1, df1: p\n",
    "df = shape[0] - shape[1]\n",
    "df1 = shape[1]-1\n",
    "\n",
    "MSE = SSE / (df)\n",
    "MSR = SSR/ (df1)\n",
    "                 \n",
    "F = MSR/MSE\n",
    "p1 =  1-stats.f.cdf(F, df1 , df)"
   ]
  },
  {
   "cell_type": "code",
   "execution_count": 364,
   "metadata": {
    "scrolled": true
   },
   "outputs": [
    {
     "data": {
      "text/plain": [
       "1.1102230246251565e-16"
      ]
     },
     "execution_count": 364,
     "metadata": {},
     "output_type": "execute_result"
    }
   ],
   "source": [
    "p1"
   ]
  },
  {
   "cell_type": "code",
   "execution_count": 365,
   "metadata": {},
   "outputs": [
    {
     "data": {
      "text/plain": [
       "True"
      ]
     },
     "execution_count": 365,
     "metadata": {},
     "output_type": "execute_result"
    }
   ],
   "source": [
    "p1<alpha"
   ]
  },
  {
   "cell_type": "markdown",
   "metadata": {},
   "source": [
    "Result shows the p-value of F is $1.1102230246251565e-16<\\alpha$ so that the Null hypothesis($H_0$) should be rejected."
   ]
  },
  {
   "cell_type": "markdown",
   "metadata": {},
   "source": [
    "(b) $H_0:\\beta_3=0$ vs $H_1:\\beta_3\\neq0$"
   ]
  },
  {
   "cell_type": "markdown",
   "metadata": {},
   "source": [
    "$ T = \\frac{\\beta_3-0}{\\hat{\\sigma}\\sqrt{(X^TX)_{ii}}} \\sim t(N-p-1)$"
   ]
  },
  {
   "cell_type": "code",
   "execution_count": 366,
   "metadata": {},
   "outputs": [],
   "source": [
    "sig = np.sqrt(MSE)\n",
    "T = (beta[3] - 0)/(sig*np.sqrt(XTXI[3,3]))\n",
    "p2 = 2*(1-stats.t.cdf(abs(T), df = df))"
   ]
  },
  {
   "cell_type": "code",
   "execution_count": 367,
   "metadata": {
    "scrolled": true
   },
   "outputs": [
    {
     "data": {
      "text/plain": [
       "0.81758878828207"
      ]
     },
     "execution_count": 367,
     "metadata": {},
     "output_type": "execute_result"
    }
   ],
   "source": [
    "p2"
   ]
  },
  {
   "cell_type": "code",
   "execution_count": 368,
   "metadata": {},
   "outputs": [
    {
     "data": {
      "text/plain": [
       "False"
      ]
     },
     "execution_count": 368,
     "metadata": {},
     "output_type": "execute_result"
    }
   ],
   "source": [
    "p2 < alpha"
   ]
  },
  {
   "cell_type": "markdown",
   "metadata": {},
   "source": [
    "Result shows the p-value of $T_3$ is $0.81758878828207>\\alpha$ so that the Null hypothesis($H_0$) should be accepted."
   ]
  }
 ],
 "metadata": {
  "kernelspec": {
   "display_name": "Python 3",
   "language": "python",
   "name": "python3"
  },
  "language_info": {
   "codemirror_mode": {
    "name": "ipython",
    "version": 3
   },
   "file_extension": ".py",
   "mimetype": "text/x-python",
   "name": "python",
   "nbconvert_exporter": "python",
   "pygments_lexer": "ipython3",
   "version": "3.7.7"
  }
 },
 "nbformat": 4,
 "nbformat_minor": 4
}
