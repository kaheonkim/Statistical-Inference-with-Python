{
 "cells": [
  {
   "cell_type": "code",
   "execution_count": 1,
   "metadata": {},
   "outputs": [],
   "source": [
    "class myclass:\n",
    "    \n",
    "    def __init__(self):\n",
    "        \n",
    "        self.mylist=[]\n",
    "        \n",
    "    def add_n_sort(self,num):\n",
    "        \n",
    "        if (self.mylist==[]) or (num>=self.mylist[0]):\n",
    "            self.mylist=[num]+self.mylist\n",
    "            self.loc=0\n",
    "            \n",
    "        elif num<=self.mylist[-1]:\n",
    "            self.mylist=self.mylist+[num]\n",
    "            self.loc=len(self.mylist)-1\n",
    "        else:\n",
    "            #because we have taken the above steps, the \"else\" case is when num is \"between\" self.mylist[0] and self.mylist[-1].  \n",
    "            first=0\n",
    "            last=len(self.mylist)-1\n",
    "            \n",
    "            while (last-first)>1:\n",
    "                mid=int((first+last)/2)\n",
    "                if num>self.mylist[mid]:\n",
    "                    last=mid                   \n",
    "                    #unlike in binary search, we set \"last=mid\" instead of \"last=mid+1\". \n",
    "                    #This is to make sure that num is always between mylist[first] and mylist[last] \n",
    "                elif num<self.mylist[mid]:\n",
    "                    first=mid                  \n",
    "                    #same here !\n",
    "                else:\n",
    "                    break\n",
    "            \n",
    "            if (last-first)>1:      \n",
    "                # this is the case when there was a break in the above while loop. \n",
    "                #Hence, this is the case when the same number as num was found in the list.\n",
    "                self.mylist=self.mylist[0:(mid+1)]+[num]+self.mylist[(mid+1):len(self.mylist)]\n",
    "                self.loc=mid+1\n",
    "            else:\n",
    "                # this is the case when num is between mylist[first] and mylist[last] and last=first + 1. We insert num between them.\n",
    "                self.mylist=self.mylist[0:last]+[num]+self.mylist[last:len(self.mylist)]  \n",
    "                self.loc=last\n",
    "            \n",
    "    def print_loc(self):\n",
    "        print(self.loc)\n"
   ]
  },
  {
   "cell_type": "code",
   "execution_count": 2,
   "metadata": {},
   "outputs": [],
   "source": [
    "A=myclass()"
   ]
  },
  {
   "cell_type": "code",
   "execution_count": 3,
   "metadata": {},
   "outputs": [
    {
     "name": "stdout",
     "output_type": "stream",
     "text": [
      "[10]\n",
      "0\n"
     ]
    }
   ],
   "source": [
    "A.add_n_sort(10)\n",
    "print(A.mylist)\n",
    "A.print_loc()"
   ]
  },
  {
   "cell_type": "code",
   "execution_count": 4,
   "metadata": {},
   "outputs": [
    {
     "name": "stdout",
     "output_type": "stream",
     "text": [
      "[13, 10]\n",
      "0\n"
     ]
    }
   ],
   "source": [
    "A.add_n_sort(13)\n",
    "print(A.mylist)\n",
    "A.print_loc()"
   ]
  },
  {
   "cell_type": "code",
   "execution_count": 5,
   "metadata": {},
   "outputs": [
    {
     "name": "stdout",
     "output_type": "stream",
     "text": [
      "[13, 12, 10]\n",
      "1\n"
     ]
    }
   ],
   "source": [
    "A.add_n_sort(12)\n",
    "print(A.mylist)\n",
    "A.print_loc()"
   ]
  },
  {
   "cell_type": "code",
   "execution_count": 6,
   "metadata": {},
   "outputs": [
    {
     "name": "stdout",
     "output_type": "stream",
     "text": [
      "[13, 12, 10, 2]\n",
      "3\n"
     ]
    }
   ],
   "source": [
    "A.add_n_sort(2)\n",
    "print(A.mylist)\n",
    "A.print_loc()"
   ]
  },
  {
   "cell_type": "code",
   "execution_count": 7,
   "metadata": {},
   "outputs": [
    {
     "name": "stdout",
     "output_type": "stream",
     "text": [
      "[13, 12, 10, 7, 2]\n",
      "3\n"
     ]
    }
   ],
   "source": [
    "A.add_n_sort(7)\n",
    "print(A.mylist)\n",
    "A.print_loc()"
   ]
  },
  {
   "cell_type": "code",
   "execution_count": 8,
   "metadata": {},
   "outputs": [
    {
     "name": "stdout",
     "output_type": "stream",
     "text": [
      "[13, 12, 10, 7, 6, 2]\n",
      "4\n"
     ]
    }
   ],
   "source": [
    "A.add_n_sort(6)\n",
    "print(A.mylist)\n",
    "A.print_loc()"
   ]
  },
  {
   "cell_type": "code",
   "execution_count": 9,
   "metadata": {},
   "outputs": [
    {
     "name": "stdout",
     "output_type": "stream",
     "text": [
      "[13, 12, 11, 10, 7, 6, 2]\n",
      "2\n"
     ]
    }
   ],
   "source": [
    "A.add_n_sort(11)\n",
    "print(A.mylist)\n",
    "A.print_loc()"
   ]
  },
  {
   "cell_type": "code",
   "execution_count": 11,
   "metadata": {},
   "outputs": [],
   "source": [
    "import numpy as np"
   ]
  },
  {
   "cell_type": "code",
   "execution_count": 12,
   "metadata": {},
   "outputs": [
    {
     "name": "stdout",
     "output_type": "stream",
     "text": [
      "[47, 13, 12, 11, 10, 7, 6, 2]\n",
      "0\n",
      "[77, 47, 13, 12, 11, 10, 7, 6, 2]\n",
      "0\n",
      "[91, 77, 47, 13, 12, 11, 10, 7, 6, 2]\n",
      "0\n",
      "[91, 77, 47, 13, 12, 11, 10, 7, 6, 2, 2]\n",
      "10\n",
      "[91, 77, 47, 18, 13, 12, 11, 10, 7, 6, 2, 2]\n",
      "3\n",
      "[91, 77, 47, 18, 13, 12, 11, 10, 7, 6, 4, 2, 2]\n",
      "10\n",
      "[91, 77, 47, 46, 18, 13, 12, 11, 10, 7, 6, 4, 2, 2]\n",
      "3\n",
      "[91, 77, 47, 46, 33, 18, 13, 12, 11, 10, 7, 6, 4, 2, 2]\n",
      "4\n",
      "[91, 89, 77, 47, 46, 33, 18, 13, 12, 11, 10, 7, 6, 4, 2, 2]\n",
      "1\n",
      "[91, 89, 77, 47, 46, 46, 33, 18, 13, 12, 11, 10, 7, 6, 4, 2, 2]\n",
      "5\n"
     ]
    }
   ],
   "source": [
    "for i in range(10):\n",
    "    n=np.random.randint(100)\n",
    "    A.add_n_sort(n)\n",
    "    print(A.mylist)\n",
    "    A.print_loc()"
   ]
  }
 ],
 "metadata": {
  "kernelspec": {
   "display_name": "Python 3",
   "language": "python",
   "name": "python3"
  },
  "language_info": {
   "codemirror_mode": {
    "name": "ipython",
    "version": 3
   },
   "file_extension": ".py",
   "mimetype": "text/x-python",
   "name": "python",
   "nbconvert_exporter": "python",
   "pygments_lexer": "ipython3",
   "version": "3.6.4"
  }
 },
 "nbformat": 4,
 "nbformat_minor": 4
}
