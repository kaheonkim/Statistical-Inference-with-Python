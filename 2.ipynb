{
 "cells": [
  {
   "cell_type": "code",
   "execution_count": 78,
   "metadata": {},
   "outputs": [],
   "source": [
    "import matplotlib.pyplot as plt\n",
    "import numpy as np\n",
    "import pandas as pd\n",
    "import math\n",
    "import seaborn as sns"
   ]
  },
  {
   "cell_type": "markdown",
   "metadata": {},
   "source": [
    "## HW2-1"
   ]
  },
  {
   "cell_type": "code",
   "execution_count": 79,
   "metadata": {},
   "outputs": [],
   "source": [
    "mydat = pd.read_csv('./data.csv')"
   ]
  },
  {
   "cell_type": "code",
   "execution_count": 80,
   "metadata": {},
   "outputs": [],
   "source": [
    "def hw2_1(data):\n",
    "    c = data.columns\n",
    "    lc = len(c)\n",
    "    ld = len(data)\n",
    "    L = np.zeros((lc,lc))\n",
    "    for i in range(lc):\n",
    "        for j in range(lc):\n",
    "            I = c[i]\n",
    "            J = c[j]\n",
    "            \n",
    "            X = data[I]\n",
    "            Y = data[J]\n",
    "            for k in range(ld):\n",
    "                if np.isnan(X[k]) == 1 or np.isnan(Y[k]) == 1:\n",
    "                    X = X.drop(k)\n",
    "                    Y = Y.drop(k)\n",
    "                    \n",
    "            X = np.array(X)\n",
    "            Y = np.array(Y)\n",
    "            Xbar = np.mean(X) * np.ones(np.shape(X))\n",
    "            Ybar = np.mean(Y) * np.ones(np.shape(Y)) \n",
    "            Numerator = np.transpose((X-Xbar))*(Y-Ybar)\n",
    "            Numerator = np.sum(Numerator)\n",
    "            \n",
    "            Denominator1 = np.transpose(X-Xbar)*(X-Xbar)\n",
    "            Denominator2 = np.transpose(Y-Ybar)*(Y-Ybar)\n",
    "            Denominator = np.sqrt(np.sum(Denominator1) * np.sum(Denominator2))\n",
    "            L[i,j] = Numerator/Denominator\n",
    "        \n",
    "    return pd.DataFrame(L, columns = c, index=c)"
   ]
  },
  {
   "cell_type": "code",
   "execution_count": 81,
   "metadata": {
    "scrolled": true
   },
   "outputs": [
    {
     "data": {
      "text/html": [
       "<div>\n",
       "<style scoped>\n",
       "    .dataframe tbody tr th:only-of-type {\n",
       "        vertical-align: middle;\n",
       "    }\n",
       "\n",
       "    .dataframe tbody tr th {\n",
       "        vertical-align: top;\n",
       "    }\n",
       "\n",
       "    .dataframe thead th {\n",
       "        text-align: right;\n",
       "    }\n",
       "</style>\n",
       "<table border=\"1\" class=\"dataframe\">\n",
       "  <thead>\n",
       "    <tr style=\"text-align: right;\">\n",
       "      <th></th>\n",
       "      <th>gender</th>\n",
       "      <th>age</th>\n",
       "      <th>weight</th>\n",
       "      <th>height</th>\n",
       "      <th>income</th>\n",
       "    </tr>\n",
       "  </thead>\n",
       "  <tbody>\n",
       "    <tr>\n",
       "      <th>gender</th>\n",
       "      <td>1.000000</td>\n",
       "      <td>0.013108</td>\n",
       "      <td>0.898438</td>\n",
       "      <td>0.703123</td>\n",
       "      <td>0.016990</td>\n",
       "    </tr>\n",
       "    <tr>\n",
       "      <th>age</th>\n",
       "      <td>0.013108</td>\n",
       "      <td>1.000000</td>\n",
       "      <td>-0.050683</td>\n",
       "      <td>-0.012024</td>\n",
       "      <td>-0.016408</td>\n",
       "    </tr>\n",
       "    <tr>\n",
       "      <th>weight</th>\n",
       "      <td>0.898438</td>\n",
       "      <td>-0.050683</td>\n",
       "      <td>1.000000</td>\n",
       "      <td>0.772103</td>\n",
       "      <td>0.000982</td>\n",
       "    </tr>\n",
       "    <tr>\n",
       "      <th>height</th>\n",
       "      <td>0.703123</td>\n",
       "      <td>-0.012024</td>\n",
       "      <td>0.772103</td>\n",
       "      <td>1.000000</td>\n",
       "      <td>-0.005520</td>\n",
       "    </tr>\n",
       "    <tr>\n",
       "      <th>income</th>\n",
       "      <td>0.016990</td>\n",
       "      <td>-0.016408</td>\n",
       "      <td>0.000982</td>\n",
       "      <td>-0.005520</td>\n",
       "      <td>1.000000</td>\n",
       "    </tr>\n",
       "  </tbody>\n",
       "</table>\n",
       "</div>"
      ],
      "text/plain": [
       "          gender       age    weight    height    income\n",
       "gender  1.000000  0.013108  0.898438  0.703123  0.016990\n",
       "age     0.013108  1.000000 -0.050683 -0.012024 -0.016408\n",
       "weight  0.898438 -0.050683  1.000000  0.772103  0.000982\n",
       "height  0.703123 -0.012024  0.772103  1.000000 -0.005520\n",
       "income  0.016990 -0.016408  0.000982 -0.005520  1.000000"
      ]
     },
     "execution_count": 81,
     "metadata": {},
     "output_type": "execute_result"
    }
   ],
   "source": [
    "hw2_1(mydat[['gender','age','weight','height','income']])"
   ]
  },
  {
   "cell_type": "markdown",
   "metadata": {},
   "source": [
    "## Test with existing function"
   ]
  },
  {
   "cell_type": "code",
   "execution_count": 82,
   "metadata": {
    "scrolled": false
   },
   "outputs": [
    {
     "data": {
      "text/html": [
       "<div>\n",
       "<style scoped>\n",
       "    .dataframe tbody tr th:only-of-type {\n",
       "        vertical-align: middle;\n",
       "    }\n",
       "\n",
       "    .dataframe tbody tr th {\n",
       "        vertical-align: top;\n",
       "    }\n",
       "\n",
       "    .dataframe thead th {\n",
       "        text-align: right;\n",
       "    }\n",
       "</style>\n",
       "<table border=\"1\" class=\"dataframe\">\n",
       "  <thead>\n",
       "    <tr style=\"text-align: right;\">\n",
       "      <th></th>\n",
       "      <th>gender</th>\n",
       "      <th>age</th>\n",
       "      <th>weight</th>\n",
       "      <th>height</th>\n",
       "      <th>income</th>\n",
       "    </tr>\n",
       "  </thead>\n",
       "  <tbody>\n",
       "    <tr>\n",
       "      <th>gender</th>\n",
       "      <td>1.000000</td>\n",
       "      <td>0.013108</td>\n",
       "      <td>0.898438</td>\n",
       "      <td>0.703123</td>\n",
       "      <td>0.016990</td>\n",
       "    </tr>\n",
       "    <tr>\n",
       "      <th>age</th>\n",
       "      <td>0.013108</td>\n",
       "      <td>1.000000</td>\n",
       "      <td>-0.050683</td>\n",
       "      <td>-0.012024</td>\n",
       "      <td>-0.016408</td>\n",
       "    </tr>\n",
       "    <tr>\n",
       "      <th>weight</th>\n",
       "      <td>0.898438</td>\n",
       "      <td>-0.050683</td>\n",
       "      <td>1.000000</td>\n",
       "      <td>0.772103</td>\n",
       "      <td>0.000982</td>\n",
       "    </tr>\n",
       "    <tr>\n",
       "      <th>height</th>\n",
       "      <td>0.703123</td>\n",
       "      <td>-0.012024</td>\n",
       "      <td>0.772103</td>\n",
       "      <td>1.000000</td>\n",
       "      <td>-0.005520</td>\n",
       "    </tr>\n",
       "    <tr>\n",
       "      <th>income</th>\n",
       "      <td>0.016990</td>\n",
       "      <td>-0.016408</td>\n",
       "      <td>0.000982</td>\n",
       "      <td>-0.005520</td>\n",
       "      <td>1.000000</td>\n",
       "    </tr>\n",
       "  </tbody>\n",
       "</table>\n",
       "</div>"
      ],
      "text/plain": [
       "          gender       age    weight    height    income\n",
       "gender  1.000000  0.013108  0.898438  0.703123  0.016990\n",
       "age     0.013108  1.000000 -0.050683 -0.012024 -0.016408\n",
       "weight  0.898438 -0.050683  1.000000  0.772103  0.000982\n",
       "height  0.703123 -0.012024  0.772103  1.000000 -0.005520\n",
       "income  0.016990 -0.016408  0.000982 -0.005520  1.000000"
      ]
     },
     "execution_count": 82,
     "metadata": {},
     "output_type": "execute_result"
    }
   ],
   "source": [
    "mydat[['gender','age','weight','height','income']].corr()"
   ]
  },
  {
   "cell_type": "markdown",
   "metadata": {},
   "source": [
    "We can check that the result from the constructed function is as same as that of result from preexisting function."
   ]
  },
  {
   "cell_type": "markdown",
   "metadata": {},
   "source": [
    "  "
   ]
  },
  {
   "cell_type": "markdown",
   "metadata": {},
   "source": [
    " "
   ]
  },
  {
   "cell_type": "markdown",
   "metadata": {},
   "source": [
    " "
   ]
  },
  {
   "cell_type": "markdown",
   "metadata": {},
   "source": [
    "# HW2-3"
   ]
  },
  {
   "cell_type": "code",
   "execution_count": 83,
   "metadata": {},
   "outputs": [],
   "source": [
    "Weight = mydat['weight']"
   ]
  },
  {
   "cell_type": "markdown",
   "metadata": {},
   "source": [
    "Process of deleting missing rows"
   ]
  },
  {
   "cell_type": "code",
   "execution_count": 84,
   "metadata": {},
   "outputs": [],
   "source": [
    "for i in range(len(Weight)):\n",
    "    if np.isnan(Weight[i]):\n",
    "        Weight = Weight.drop(i)"
   ]
  },
  {
   "cell_type": "markdown",
   "metadata": {},
   "source": [
    "## HW2-3-(a)"
   ]
  },
  {
   "cell_type": "code",
   "execution_count": 85,
   "metadata": {
    "scrolled": true
   },
   "outputs": [
    {
     "data": {
      "image/png": "[encoded data removed]",
      "text/plain": [
       "<Figure size 432x288 with 1 Axes>"
      ]
     },
     "metadata": {
      "needs_background": "light"
     },
     "output_type": "display_data"
    }
   ],
   "source": [
    "Mean = []\n",
    "for i in range(400):\n",
    "    Sample = np.random.choice(Weight,(i+1)*5)\n",
    "    Mean.append(np.mean(Sample))\n",
    "\n",
    "plt.plot(range(5,2005,5),Mean, label = 'Sample Mean')\n",
    "plt.plot(range(5,2005,5), np.mean(Weight)*np.ones(400), label='Population Mean')\n",
    "plt.xlabel('Sample size')\n",
    "plt.ylabel('Mean of Sample')\n",
    "plt.legend()\n",
    "plt.show()\n",
    "    "
   ]
  },
  {
   "cell_type": "markdown",
   "metadata": {},
   "source": [
    "### Explanation"
   ]
  },
  {
   "cell_type": "markdown",
   "metadata": {},
   "source": [
    "As the number of sample increases, sample mean approaches near the population mean."
   ]
  },
  {
   "cell_type": "markdown",
   "metadata": {},
   "source": [
    " "
   ]
  },
  {
   "cell_type": "markdown",
   "metadata": {},
   "source": [
    " "
   ]
  },
  {
   "cell_type": "markdown",
   "metadata": {},
   "source": [
    " "
   ]
  },
  {
   "cell_type": "markdown",
   "metadata": {},
   "source": [
    " "
   ]
  },
  {
   "cell_type": "markdown",
   "metadata": {},
   "source": [
    "## HW2-3-(b)"
   ]
  },
  {
   "cell_type": "markdown",
   "metadata": {},
   "source": [
    "### Histogram of random sample of size 5"
   ]
  },
  {
   "cell_type": "code",
   "execution_count": 86,
   "metadata": {
    "scrolled": true
   },
   "outputs": [
    {
     "data": {
      "text/plain": [
       "(array([ 2.,  1.,  0.,  1.,  0.,  0.,  1.,  1.,  2.,  3.,  4.,  1.,  3.,\n",
       "         8.,  4.,  3.,  7.,  6.,  5., 11., 11.,  7.,  7., 12.,  5., 15.,\n",
       "        16., 12., 19.,  7., 21., 19., 14., 20., 16., 17.,  7., 17., 18.,\n",
       "        23., 16., 23., 22., 14., 27., 24., 18., 26., 18., 20., 22., 20.,\n",
       "        18., 20.,  8., 23., 22., 16., 12., 21., 25., 15., 16., 16., 12.,\n",
       "        21., 11., 12.,  6., 10.,  9., 13.,  8., 10.,  5.,  6.,  7.,  6.,\n",
       "        10.,  4.,  6.,  6.,  4.,  3.,  4.,  3.,  2.,  4.,  1.,  0.,  2.,\n",
       "         2.,  0.,  1.,  1.,  2.,  0.,  0.,  0.,  1.]),\n",
       " array([43.15459178, 43.38360063, 43.61260948, 43.84161833, 44.07062717,\n",
       "        44.29963602, 44.52864487, 44.75765371, 44.98666256, 45.21567141,\n",
       "        45.44468026, 45.6736891 , 45.90269795, 46.1317068 , 46.36071565,\n",
       "        46.58972449, 46.81873334, 47.04774219, 47.27675104, 47.50575988,\n",
       "        47.73476873, 47.96377758, 48.19278643, 48.42179527, 48.65080412,\n",
       "        48.87981297, 49.10882182, 49.33783066, 49.56683951, 49.79584836,\n",
       "        50.02485721, 50.25386605, 50.4828749 , 50.71188375, 50.9408926 ,\n",
       "        51.16990144, 51.39891029, 51.62791914, 51.85692799, 52.08593683,\n",
       "        52.31494568, 52.54395453, 52.77296337, 53.00197222, 53.23098107,\n",
       "        53.45998992, 53.68899876, 53.91800761, 54.14701646, 54.37602531,\n",
       "        54.60503415, 54.834043  , 55.06305185, 55.2920607 , 55.52106954,\n",
       "        55.75007839, 55.97908724, 56.20809609, 56.43710493, 56.66611378,\n",
       "        56.89512263, 57.12413148, 57.35314032, 57.58214917, 57.81115802,\n",
       "        58.04016687, 58.26917571, 58.49818456, 58.72719341, 58.95620226,\n",
       "        59.1852111 , 59.41421995, 59.6432288 , 59.87223765, 60.10124649,\n",
       "        60.33025534, 60.55926419, 60.78827304, 61.01728188, 61.24629073,\n",
       "        61.47529958, 61.70430842, 61.93331727, 62.16232612, 62.39133497,\n",
       "        62.62034381, 62.84935266, 63.07836151, 63.30737036, 63.5363792 ,\n",
       "        63.76538805, 63.9943969 , 64.22340575, 64.45241459, 64.68142344,\n",
       "        64.91043229, 65.13944114, 65.36844998, 65.59745883, 65.82646768,\n",
       "        66.05547653]),\n",
       " <BarContainer object of 100 artists>)"
      ]
     },
     "execution_count": 86,
     "metadata": {},
     "output_type": "execute_result"
    },
    {
     "data": {
      "image/png": "[encoded data removed]",
      "text/plain": [
       "<Figure size 432x288 with 1 Axes>"
      ]
     },
     "metadata": {
      "needs_background": "light"
     },
     "output_type": "display_data"
    }
   ],
   "source": [
    "Mean5 = []\n",
    "for i in range(1000):\n",
    "    Sample = np.random.choice(Weight,5)\n",
    "    Mean5.append(np.mean(Sample))\n",
    "    \n",
    "plt.hist(Mean5,bins=100)\n"
   ]
  },
  {
   "cell_type": "markdown",
   "metadata": {},
   "source": [
    "### Histogram of random sample of size 10"
   ]
  },
  {
   "cell_type": "code",
   "execution_count": 87,
   "metadata": {
    "scrolled": true
   },
   "outputs": [
    {
     "data": {
      "text/plain": [
       "(array([ 1.,  0.,  0.,  0.,  0.,  0.,  2.,  0.,  0.,  0.,  2.,  3.,  4.,\n",
       "         5.,  4.,  3.,  4.,  4.,  4.,  3.,  6.,  8., 10., 10.,  8., 13.,\n",
       "        12., 13., 19., 13., 16., 15., 12., 16., 17., 15., 21., 19., 22.,\n",
       "        22., 14., 28., 22., 24., 32., 24., 25., 21., 27., 20., 24., 23.,\n",
       "        22., 25., 17., 21., 20., 23., 20., 18., 18., 14., 16., 13., 16.,\n",
       "        16., 14., 16.,  8., 10., 11.,  9.,  4.,  7.,  9.,  3.,  4.,  5.,\n",
       "         6.,  5.,  2.,  3.,  1.,  1.,  3.,  5.,  1.,  1.,  0.,  0.,  0.,\n",
       "         1.,  0.,  0.,  0.,  0.,  0.,  0.,  0.,  2.]),\n",
       " array([45.53956534, 45.72327986, 45.90699437, 46.09070888, 46.27442339,\n",
       "        46.4581379 , 46.64185242, 46.82556693, 47.00928144, 47.19299595,\n",
       "        47.37671047, 47.56042498, 47.74413949, 47.927854  , 48.11156852,\n",
       "        48.29528303, 48.47899754, 48.66271205, 48.84642656, 49.03014108,\n",
       "        49.21385559, 49.3975701 , 49.58128461, 49.76499913, 49.94871364,\n",
       "        50.13242815, 50.31614266, 50.49985717, 50.68357169, 50.8672862 ,\n",
       "        51.05100071, 51.23471522, 51.41842974, 51.60214425, 51.78585876,\n",
       "        51.96957327, 52.15328778, 52.3370023 , 52.52071681, 52.70443132,\n",
       "        52.88814583, 53.07186035, 53.25557486, 53.43928937, 53.62300388,\n",
       "        53.80671839, 53.99043291, 54.17414742, 54.35786193, 54.54157644,\n",
       "        54.72529096, 54.90900547, 55.09271998, 55.27643449, 55.460149  ,\n",
       "        55.64386352, 55.82757803, 56.01129254, 56.19500705, 56.37872157,\n",
       "        56.56243608, 56.74615059, 56.9298651 , 57.11357961, 57.29729413,\n",
       "        57.48100864, 57.66472315, 57.84843766, 58.03215218, 58.21586669,\n",
       "        58.3995812 , 58.58329571, 58.76701023, 58.95072474, 59.13443925,\n",
       "        59.31815376, 59.50186827, 59.68558279, 59.8692973 , 60.05301181,\n",
       "        60.23672632, 60.42044084, 60.60415535, 60.78786986, 60.97158437,\n",
       "        61.15529888, 61.3390134 , 61.52272791, 61.70644242, 61.89015693,\n",
       "        62.07387145, 62.25758596, 62.44130047, 62.62501498, 62.80872949,\n",
       "        62.99244401, 63.17615852, 63.35987303, 63.54358754, 63.72730206,\n",
       "        63.91101657]),\n",
       " <BarContainer object of 100 artists>)"
      ]
     },
     "execution_count": 87,
     "metadata": {},
     "output_type": "execute_result"
    },
    {
     "data": {
      "image/png": "[encoded data removed]",
      "text/plain": [
       "<Figure size 432x288 with 1 Axes>"
      ]
     },
     "metadata": {
      "needs_background": "light"
     },
     "output_type": "display_data"
    }
   ],
   "source": [
    "Mean10 = []\n",
    "for i in range(1000):\n",
    "    Sample = np.random.choice(Weight,10)\n",
    "    Mean10.append(np.mean(Sample))\n",
    "    \n",
    "plt.hist(Mean10,bins=100)\n",
    "\n"
   ]
  },
  {
   "cell_type": "markdown",
   "metadata": {},
   "source": [
    "### Histogram of random sample of size 100"
   ]
  },
  {
   "cell_type": "code",
   "execution_count": 88,
   "metadata": {
    "scrolled": true
   },
   "outputs": [
    {
     "data": {
      "text/plain": [
       "(array([ 1.,  0.,  0.,  1.,  0.,  0.,  0.,  2.,  1.,  0.,  1.,  1.,  3.,\n",
       "         1.,  3.,  3.,  5.,  0.,  3.,  4.,  4.,  7.,  4., 10.,  5., 12.,\n",
       "         6., 10., 10., 10.,  9., 11., 15., 21., 10., 19., 19., 18., 20.,\n",
       "        16., 26., 13., 22.,  9., 20., 31., 25., 20., 20., 25., 19., 23.,\n",
       "        29., 16., 19., 17., 24., 11., 24., 18., 24., 16., 20., 25., 15.,\n",
       "        14., 17., 10., 17., 16., 16., 21.,  6.,  8.,  8., 10., 16.,  7.,\n",
       "         2.,  5.,  7.,  6.,  6.,  4.,  5.,  2.,  2.,  1.,  4.,  1.,  2.,\n",
       "         0.,  1.,  0.,  2.,  2.,  2.,  0.,  2.,  2.]),\n",
       " array([51.5882155 , 51.64021485, 51.69221421, 51.74421356, 51.79621291,\n",
       "        51.84821226, 51.90021161, 51.95221097, 52.00421032, 52.05620967,\n",
       "        52.10820902, 52.16020838, 52.21220773, 52.26420708, 52.31620643,\n",
       "        52.36820579, 52.42020514, 52.47220449, 52.52420384, 52.57620319,\n",
       "        52.62820255, 52.6802019 , 52.73220125, 52.7842006 , 52.83619996,\n",
       "        52.88819931, 52.94019866, 52.99219801, 53.04419736, 53.09619672,\n",
       "        53.14819607, 53.20019542, 53.25219477, 53.30419413, 53.35619348,\n",
       "        53.40819283, 53.46019218, 53.51219153, 53.56419089, 53.61619024,\n",
       "        53.66818959, 53.72018894, 53.7721883 , 53.82418765, 53.876187  ,\n",
       "        53.92818635, 53.9801857 , 54.03218506, 54.08418441, 54.13618376,\n",
       "        54.18818311, 54.24018247, 54.29218182, 54.34418117, 54.39618052,\n",
       "        54.44817988, 54.50017923, 54.55217858, 54.60417793, 54.65617728,\n",
       "        54.70817664, 54.76017599, 54.81217534, 54.86417469, 54.91617405,\n",
       "        54.9681734 , 55.02017275, 55.0721721 , 55.12417145, 55.17617081,\n",
       "        55.22817016, 55.28016951, 55.33216886, 55.38416822, 55.43616757,\n",
       "        55.48816692, 55.54016627, 55.59216562, 55.64416498, 55.69616433,\n",
       "        55.74816368, 55.80016303, 55.85216239, 55.90416174, 55.95616109,\n",
       "        56.00816044, 56.0601598 , 56.11215915, 56.1641585 , 56.21615785,\n",
       "        56.2681572 , 56.32015656, 56.37215591, 56.42415526, 56.47615461,\n",
       "        56.52815397, 56.58015332, 56.63215267, 56.68415202, 56.73615137,\n",
       "        56.78815073]),\n",
       " <BarContainer object of 100 artists>)"
      ]
     },
     "execution_count": 88,
     "metadata": {},
     "output_type": "execute_result"
    },
    {
     "data": {
      "image/png": "[encoded data removed]",
      "text/plain": [
       "<Figure size 432x288 with 1 Axes>"
      ]
     },
     "metadata": {
      "needs_background": "light"
     },
     "output_type": "display_data"
    }
   ],
   "source": [
    "Mean100 = []\n",
    "for i in range(1000):\n",
    "    Sample = np.random.choice(Weight,100)\n",
    "    Mean100.append(np.mean(Sample))\n",
    "    \n",
    "plt.hist(Mean100,bins=100)\n",
    "\n",
    "\n"
   ]
  },
  {
   "cell_type": "markdown",
   "metadata": {},
   "source": [
    "### A histogram of the population"
   ]
  },
  {
   "cell_type": "code",
   "execution_count": 89,
   "metadata": {},
   "outputs": [
    {
     "data": {
      "text/plain": [
       "(array([ 1.,  0.,  0.,  0.,  0.,  0.,  0.,  2.,  0.,  2.,  3.,  3.,  6.,\n",
       "         2.,  4.,  8.,  5.,  8., 10., 15., 17., 18., 17., 25., 23., 18.,\n",
       "        22., 28., 22., 27., 29., 24., 25., 16., 29., 20., 15., 18., 11.,\n",
       "        15., 12., 10.,  7.,  5.,  4.,  8., 11.,  5.,  4.,  3.,  5.,  3.,\n",
       "         8.,  9.,  9.,  7.,  8.,  9.,  7., 12., 12.,  8., 11., 10., 10.,\n",
       "         6., 18.,  9., 15., 18., 14., 19., 17., 19., 17., 18., 10., 14.,\n",
       "        13., 13., 12.,  8., 10., 12.,  5.,  7.,  6.,  7.,  5.,  4.,  3.,\n",
       "         2.,  6.,  1.,  2.,  3.,  0.,  0.,  0.,  1.]),\n",
       " array([34.75236183, 35.15674082, 35.5611198 , 35.96549879, 36.36987778,\n",
       "        36.77425676, 37.17863575, 37.58301474, 37.98739372, 38.39177271,\n",
       "        38.7961517 , 39.20053069, 39.60490967, 40.00928866, 40.41366765,\n",
       "        40.81804663, 41.22242562, 41.62680461, 42.03118359, 42.43556258,\n",
       "        42.83994157, 43.24432056, 43.64869954, 44.05307853, 44.45745752,\n",
       "        44.8618365 , 45.26621549, 45.67059448, 46.07497346, 46.47935245,\n",
       "        46.88373144, 47.28811043, 47.69248941, 48.0968684 , 48.50124739,\n",
       "        48.90562637, 49.31000536, 49.71438435, 50.11876333, 50.52314232,\n",
       "        50.92752131, 51.3319003 , 51.73627928, 52.14065827, 52.54503726,\n",
       "        52.94941624, 53.35379523, 53.75817422, 54.1625532 , 54.56693219,\n",
       "        54.97131118, 55.37569017, 55.78006915, 56.18444814, 56.58882713,\n",
       "        56.99320611, 57.3975851 , 57.80196409, 58.20634307, 58.61072206,\n",
       "        59.01510105, 59.41948004, 59.82385902, 60.22823801, 60.632617  ,\n",
       "        61.03699598, 61.44137497, 61.84575396, 62.25013295, 62.65451193,\n",
       "        63.05889092, 63.46326991, 63.86764889, 64.27202788, 64.67640687,\n",
       "        65.08078585, 65.48516484, 65.88954383, 66.29392282, 66.6983018 ,\n",
       "        67.10268079, 67.50705978, 67.91143876, 68.31581775, 68.72019674,\n",
       "        69.12457572, 69.52895471, 69.9333337 , 70.33771269, 70.74209167,\n",
       "        71.14647066, 71.55084965, 71.95522863, 72.35960762, 72.76398661,\n",
       "        73.16836559, 73.57274458, 73.97712357, 74.38150256, 74.78588154,\n",
       "        75.19026053]),\n",
       " <BarContainer object of 100 artists>)"
      ]
     },
     "execution_count": 89,
     "metadata": {},
     "output_type": "execute_result"
    },
    {
     "data": {
      "image/png": "[encoded data removed]",
      "text/plain": [
       "<Figure size 432x288 with 1 Axes>"
      ]
     },
     "metadata": {
      "needs_background": "light"
     },
     "output_type": "display_data"
    }
   ],
   "source": [
    "plt.hist(Weight,bins=100)"
   ]
  },
  {
   "cell_type": "markdown",
   "metadata": {},
   "source": [
    "### Comparison between the graphs"
   ]
  },
  {
   "cell_type": "code",
   "execution_count": 90,
   "metadata": {},
   "outputs": [
    {
     "data": {
      "image/png": "[encoded data removed]",
      "text/plain": [
       "<Figure size 432x288 with 1 Axes>"
      ]
     },
     "metadata": {
      "needs_background": "light"
     },
     "output_type": "display_data"
    }
   ],
   "source": [
    "plt.hist(Weight,bins = 100, label = 'Population')\n",
    "plt.hist(Mean5, bins = 100, label = '5 Samples')\n",
    "plt.hist(Mean10, bins=100, label = '10 Samples')\n",
    "plt.hist(Mean100,bins=100, label = '100 Samples')\n",
    "plt.legend()\n",
    "plt.show()"
   ]
  },
  {
   "cell_type": "markdown",
   "metadata": {},
   "source": [
    " We can see the difference between sample distribution and population distribution. Actually population distribution is not random since its data consists of weight of male and woman, whose distributions differ significantly(especially in terms of mean). So we can see the population distribution as placing distinct, independent random distributions in the same frame. So its distribution is like two bells standing by each other.\n",
    " \n",
    " \n",
    " But as we know, distribution made by adding two random variables from two distinct independent random variable is random. i.e.\n",
    " $ a_1X_1+a_2X_2\\sim  N(a_1\\mu_1+a_2\\mu_2,a_1^2\\sigma_1^2+a_2^2\\sigma_2^2)$\n",
    " \n",
    " \n",
    "So Sample distributions are bell-shaped."
   ]
  },
  {
   "cell_type": "markdown",
   "metadata": {},
   "source": [
    "### Box plot of random sample mean\n"
   ]
  },
  {
   "cell_type": "code",
   "execution_count": 91,
   "metadata": {},
   "outputs": [],
   "source": [
    "L = np.zeros((len(Mean5)+len(Mean10)+len(Mean100),2))\n",
    "for i in range(len(Mean5)):\n",
    "    L[i,0] = Mean5[i]\n",
    "    L[i,1] = 5\n",
    "    \n",
    "for i in range(len(Mean10)):\n",
    "    L[i+len(Mean5),0] = Mean10[i]\n",
    "    L[i+len(Mean5),1] = 10\n",
    "    \n",
    "for i in range(len(Mean100)):\n",
    "    L[i+len(Mean5)+len(Mean10),0] = Mean100[i]\n",
    "    L[i+len(Mean5)+len(Mean10),1] = 100\n",
    "\n"
   ]
  },
  {
   "cell_type": "code",
   "execution_count": 92,
   "metadata": {},
   "outputs": [],
   "source": [
    "P = pd.DataFrame(L, columns=['Mean', 'Samples'])"
   ]
  },
  {
   "cell_type": "code",
   "execution_count": 93,
   "metadata": {
    "scrolled": true
   },
   "outputs": [
    {
     "data": {
      "text/plain": [
       "<AxesSubplot:xlabel='Samples', ylabel='Mean'>"
      ]
     },
     "execution_count": 93,
     "metadata": {},
     "output_type": "execute_result"
    },
    {
     "data": {
      "image/png": "[encoded data removed]",
      "text/plain": [
       "<Figure size 432x288 with 1 Axes>"
      ]
     },
     "metadata": {
      "needs_background": "light"
     },
     "output_type": "display_data"
    }
   ],
   "source": [
    "sns.boxplot(y = P['Mean'], x =P['Samples'] , width=0.2)"
   ]
  },
  {
   "cell_type": "markdown",
   "metadata": {},
   "source": [
    "## HW2-3-(c)"
   ]
  },
  {
   "cell_type": "markdown",
   "metadata": {},
   "source": [
    "I will use Two-sided test for the hypotehsis with significant level of $\\alpha= 0.05$."
   ]
  },
  {
   "cell_type": "code",
   "execution_count": 95,
   "metadata": {},
   "outputs": [],
   "source": [
    "alpha = 0.05"
   ]
  },
  {
   "cell_type": "markdown",
   "metadata": {},
   "source": [
    "So we need to check whether 55.2 is in the interval of significance level of $\\alpha=0.05$.(Area excluding below $\\alpha /2$ percentile and above $\\alpha /2$ percentile.)"
   ]
  },
  {
   "cell_type": "code",
   "execution_count": 96,
   "metadata": {},
   "outputs": [
    {
     "data": {
      "text/plain": [
       "True"
      ]
     },
     "execution_count": 96,
     "metadata": {},
     "output_type": "execute_result"
    }
   ],
   "source": [
    "55.2<np.quantile(Mean10, 1-alpha/2) and 55.2>np.quantile(Mean10, alpha/2)"
   ]
  },
  {
   "cell_type": "markdown",
   "metadata": {},
   "source": [
    "We should conclude that a random sample with its mean 55.2 is from the population."
   ]
  }
 ],
 "metadata": {
  "kernelspec": {
   "display_name": "Python 3",
   "language": "python",
   "name": "python3"
  },
  "language_info": {
   "codemirror_mode": {
    "name": "ipython",
    "version": 3
   },
   "file_extension": ".py",
   "mimetype": "text/x-python",
   "name": "python",
   "nbconvert_exporter": "python",
   "pygments_lexer": "ipython3",
   "version": "3.7.7"
  }
 },
 "nbformat": 4,
 "nbformat_minor": 4
}
